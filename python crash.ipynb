{
 "cells": [
  {
   "cell_type": "code",
   "execution_count": 93,
   "id": "5ff5a869",
   "metadata": {},
   "outputs": [
    {
     "name": "stdout",
     "output_type": "stream",
     "text": [
      "weight_lbs:300\n",
      "135.0\n"
     ]
    }
   ],
   "source": [
    "#Weight converter\n",
    "weight_lbs = input( 'weight_lbs:')\n",
    "weight_kg = int(weight_lbs) * 0.45\n",
    "print(weight_kg)"
   ]
  },
  {
   "cell_type": "code",
   "execution_count": 3,
   "id": "fff15d16",
   "metadata": {},
   "outputs": [
    {
     "name": "stdout",
     "output_type": "stream",
     "text": [
      "Enter speed300\n",
      "points: 46\n",
      "License Suspended \n"
     ]
    }
   ],
   "source": [
    "#Speed checker\n",
    "def speed_limiter(speed):\n",
    "    if speed<70:\n",
    "        print('Ok')\n",
    "    else:\n",
    "            speed=(speed-70)\n",
    "            points=(speed//5)\n",
    "            print('points:',points)\n",
    "            if points>12:\n",
    "                print('License Suspended ')\n",
    "speed=int(input('Enter speed'))\n",
    "speed_limiter(speed)"
   ]
  },
  {
   "cell_type": "code",
   "execution_count": 4,
   "id": "3d1e799b",
   "metadata": {},
   "outputs": [
    {
     "data": {
      "text/plain": [
       "{'shut down': 'alt f4', 'shutup': [1, 2, 3, 4]}"
      ]
     },
     "execution_count": 4,
     "metadata": {},
     "output_type": "execute_result"
    }
   ],
   "source": [
    "#my first code on python dict\n",
    "my_dict={'shut down': 'alt f4', 'shutup': [1,2,3,4,]}\n",
    "my_dict"
   ]
  },
  {
   "cell_type": "code",
   "execution_count": 5,
   "id": "3589c931",
   "metadata": {},
   "outputs": [
    {
     "data": {
      "text/plain": [
       "dict_keys(['shut down', 'shutup'])"
      ]
     },
     "execution_count": 5,
     "metadata": {},
     "output_type": "execute_result"
    }
   ],
   "source": [
    "my_dict.keys()"
   ]
  },
  {
   "cell_type": "code",
   "execution_count": 6,
   "id": "0746cc01",
   "metadata": {},
   "outputs": [
    {
     "data": {
      "text/plain": [
       "'alt f4'"
      ]
     },
     "execution_count": 6,
     "metadata": {},
     "output_type": "execute_result"
    }
   ],
   "source": [
    "my_dict['shut down']"
   ]
  },
  {
   "cell_type": "code",
   "execution_count": 7,
   "id": "c1132bd4",
   "metadata": {},
   "outputs": [
    {
     "data": {
      "text/plain": [
       "dict_items([('shut down', 'alt f4'), ('shutup', [1, 2, 3, 4])])"
      ]
     },
     "execution_count": 7,
     "metadata": {},
     "output_type": "execute_result"
    }
   ],
   "source": [
    "my_dict.items()"
   ]
  },
  {
   "cell_type": "code",
   "execution_count": 8,
   "id": "1d13bdec",
   "metadata": {},
   "outputs": [
    {
     "data": {
      "text/plain": [
       "dict_values(['alt f4', [1, 2, 3, 4]])"
      ]
     },
     "execution_count": 8,
     "metadata": {},
     "output_type": "execute_result"
    }
   ],
   "source": [
    "my_dict.values()"
   ]
  },
  {
   "cell_type": "code",
   "execution_count": 9,
   "id": "a687b93f",
   "metadata": {},
   "outputs": [
    {
     "data": {
      "text/plain": [
       "[20, 2, 7, 10, 17, 100, 230]"
      ]
     },
     "execution_count": 9,
     "metadata": {},
     "output_type": "execute_result"
    }
   ],
   "source": [
    "# python list\n",
    "my_list=[20,2,7,10,17,100,230]\n",
    "my_list"
   ]
  },
  {
   "cell_type": "code",
   "execution_count": 10,
   "id": "82935a69",
   "metadata": {},
   "outputs": [],
   "source": [
    "my_list.append(29072018)"
   ]
  },
  {
   "cell_type": "code",
   "execution_count": 11,
   "id": "0fa666b3",
   "metadata": {},
   "outputs": [
    {
     "data": {
      "text/plain": [
       "[20, 2, 7, 10, 17, 100, 230, 29072018]"
      ]
     },
     "execution_count": 11,
     "metadata": {},
     "output_type": "execute_result"
    }
   ],
   "source": [
    "my_list"
   ]
  },
  {
   "cell_type": "code",
   "execution_count": 12,
   "id": "19ec8128",
   "metadata": {},
   "outputs": [
    {
     "data": {
      "text/plain": [
       "[29072018, 230, 100, 20, 17, 10, 7, 2]"
      ]
     },
     "execution_count": 12,
     "metadata": {},
     "output_type": "execute_result"
    }
   ],
   "source": [
    "sorted(my_list, reverse=True)"
   ]
  },
  {
   "cell_type": "code",
   "execution_count": 13,
   "id": "fdf01f38",
   "metadata": {},
   "outputs": [
    {
     "name": "stdout",
     "output_type": "stream",
     "text": [
      "1 20\n",
      "[2, 7, 10, 17, 20, 100, 230, 29072018]\n",
      "2 2\n",
      "[2, 7, 10, 17, 20, 100, 230, 29072018]\n",
      "3 7\n",
      "[2, 7, 10, 17, 20, 100, 230, 29072018]\n",
      "4 10\n",
      "[2, 7, 10, 17, 20, 100, 230, 29072018]\n",
      "5 17\n",
      "[2, 7, 10, 17, 20, 100, 230, 29072018]\n",
      "6 100\n",
      "[2, 7, 10, 17, 20, 100, 230, 29072018]\n",
      "7 230\n",
      "[2, 7, 10, 17, 20, 100, 230, 29072018]\n",
      "8 29072018\n",
      "[2, 7, 10, 17, 20, 100, 230, 29072018]\n"
     ]
    }
   ],
   "source": [
    "my_list\n",
    "list(enumerate(my_list))\n",
    "for count,item in enumerate(my_list, start=1 ):\n",
    "    print(count,item)\n",
    "    sorted(my_list, reverse=True)\n",
    "    print(sorted(my_list))"
   ]
  },
  {
   "cell_type": "code",
   "execution_count": 14,
   "id": "f2710e7c",
   "metadata": {},
   "outputs": [
    {
     "name": "stdout",
     "output_type": "stream",
     "text": [
      "1 20\n",
      "2 2\n",
      "3 7\n",
      "4 10\n",
      "5 17\n",
      "6 100\n",
      "7 230\n",
      "8 29072018\n"
     ]
    }
   ],
   "source": [
    "my_list \n",
    "list(enumerate(my_list ))\n",
    "for count,item in enumerate(my_list, start=1):\n",
    "    print(count,item)"
   ]
  },
  {
   "cell_type": "code",
   "execution_count": 15,
   "id": "9877c641",
   "metadata": {},
   "outputs": [],
   "source": [
    "l1= my_list.copy()\n",
    "l2= my_list.copy() \n",
    "l3= my_list.copy()"
   ]
  },
  {
   "cell_type": "code",
   "execution_count": 16,
   "id": "e333b7a8",
   "metadata": {},
   "outputs": [
    {
     "data": {
      "text/plain": [
       "29072018"
      ]
     },
     "execution_count": 16,
     "metadata": {},
     "output_type": "execute_result"
    }
   ],
   "source": [
    "l1.pop()"
   ]
  },
  {
   "cell_type": "code",
   "execution_count": 17,
   "id": "4a064040",
   "metadata": {},
   "outputs": [
    {
     "data": {
      "text/plain": [
       "[20, 2]"
      ]
     },
     "execution_count": 17,
     "metadata": {},
     "output_type": "execute_result"
    }
   ],
   "source": [
    "del l3 [2:]\n",
    "l3"
   ]
  },
  {
   "cell_type": "code",
   "execution_count": 18,
   "id": "c068615c",
   "metadata": {},
   "outputs": [
    {
     "data": {
      "text/plain": [
       "{1, 2, 3}"
      ]
     },
     "execution_count": 18,
     "metadata": {},
     "output_type": "execute_result"
    }
   ],
   "source": [
    "set([1,2,3,1,2,3,3,2,1,3,1,3,2,1,2])"
   ]
  },
  {
   "cell_type": "code",
   "execution_count": 19,
   "id": "c8af35dc",
   "metadata": {},
   "outputs": [
    {
     "data": {
      "text/plain": [
       "{4, 5, 6}"
      ]
     },
     "execution_count": 19,
     "metadata": {},
     "output_type": "execute_result"
    }
   ],
   "source": [
    "my_set={4,5,6,4,5,6,4,5,6,4,5,6}\n",
    "my_set"
   ]
  },
  {
   "cell_type": "code",
   "execution_count": 20,
   "id": "3638aa4e",
   "metadata": {},
   "outputs": [
    {
     "data": {
      "text/plain": [
       "4"
      ]
     },
     "execution_count": 20,
     "metadata": {},
     "output_type": "execute_result"
    }
   ],
   "source": [
    "my_set.pop()"
   ]
  },
  {
   "cell_type": "code",
   "execution_count": 21,
   "id": "81a4acbc",
   "metadata": {},
   "outputs": [
    {
     "data": {
      "text/plain": [
       "{1, 5, 6}"
      ]
     },
     "execution_count": 21,
     "metadata": {},
     "output_type": "execute_result"
    }
   ],
   "source": [
    "my_set.add(1)\n",
    "my_set"
   ]
  },
  {
   "cell_type": "code",
   "execution_count": 22,
   "id": "eb012914",
   "metadata": {},
   "outputs": [
    {
     "data": {
      "text/plain": [
       "{1, 5, 6, 20}"
      ]
     },
     "execution_count": 22,
     "metadata": {},
     "output_type": "execute_result"
    }
   ],
   "source": [
    "my_set.add(20)\n",
    "my_set"
   ]
  },
  {
   "cell_type": "code",
   "execution_count": 23,
   "id": "8b1b7129",
   "metadata": {},
   "outputs": [
    {
     "name": "stdout",
     "output_type": "stream",
     "text": [
      "Kingship wonderfied\n"
     ]
    }
   ],
   "source": [
    "name = 'samuel ekuma'\n",
    "if name == 'Samuel ekuma':\n",
    "    print('sabinus')\n",
    "elif name =='samuel ekuma':\n",
    "    print('Kingship wonderfied')\n",
    "else:\n",
    "    print('God is Good')"
   ]
  },
  {
   "cell_type": "code",
   "execution_count": 24,
   "id": "94f58a83",
   "metadata": {},
   "outputs": [
    {
     "name": "stdout",
     "output_type": "stream",
     "text": [
      "Joshua!!\n"
     ]
    }
   ],
   "source": [
    "name= 'Joshua'\n",
    "if name== 'joshua':\n",
    "    print('you are blessed')\n",
    "elif name== 'Joshua':\n",
    "    print('Joshua!!')\n",
    "else:\n",
    "    print('wonderful')\n",
    "    "
   ]
  },
  {
   "cell_type": "code",
   "execution_count": 25,
   "id": "175a4b21",
   "metadata": {},
   "outputs": [
    {
     "name": "stdout",
     "output_type": "stream",
     "text": [
      "2\n",
      "4\n",
      "6\n",
      "8\n",
      "10\n",
      "12\n",
      "14\n",
      "16\n",
      "18\n"
     ]
    }
   ],
   "source": [
    "for item in range(2,20,2):\n",
    "    print(item)\n"
   ]
  },
  {
   "cell_type": "code",
   "execution_count": 26,
   "id": "77f97ae2",
   "metadata": {},
   "outputs": [
    {
     "data": {
      "text/plain": [
       "[(2, 4), (5, 4), (2, 5)]"
      ]
     },
     "execution_count": 26,
     "metadata": {},
     "output_type": "execute_result"
    }
   ],
   "source": [
    "x=[(2,4),(5,4),(2,5)]\n",
    "x"
   ]
  },
  {
   "cell_type": "code",
   "execution_count": 27,
   "id": "cdeaf57b",
   "metadata": {},
   "outputs": [
    {
     "name": "stdout",
     "output_type": "stream",
     "text": [
      "first number is 2 and second number is 4\n",
      "first number is 5 and second number is 4\n",
      "first number is 2 and second number is 5\n"
     ]
    }
   ],
   "source": [
    "for a,b in x:\n",
    "    print('first number is {} and second number is {}'.format(a,b))"
   ]
  },
  {
   "cell_type": "code",
   "execution_count": 28,
   "id": "a1c06bff",
   "metadata": {},
   "outputs": [
    {
     "name": "stdout",
     "output_type": "stream",
     "text": [
      "0 Patrick\n",
      "1 Samuel\n",
      "2 Rita\n",
      "3 Happiness\n",
      "4 Ndidi\n",
      "5 covenant\n"
     ]
    }
   ],
   "source": [
    "a= ['Patrick', 'Samuel','Rita','Happiness','Ndidi','covenant']\n",
    "list(enumerate(a))\n",
    "for counter, item in enumerate(a):\n",
    "    print(counter,item)"
   ]
  },
  {
   "cell_type": "code",
   "execution_count": 29,
   "id": "bc086357",
   "metadata": {},
   "outputs": [
    {
     "name": "stdout",
     "output_type": "stream",
     "text": [
      "1 Patrick\n",
      "2 Samuel\n",
      "3 Rita\n",
      "4 Happiness\n",
      "5 Ndidi\n",
      "6 covenant\n"
     ]
    }
   ],
   "source": [
    "for counter,item in enumerate(a, start=1):\n",
    "    print(counter,item)"
   ]
  },
  {
   "cell_type": "code",
   "execution_count": 30,
   "id": "0c28577e",
   "metadata": {},
   "outputs": [
    {
     "data": {
      "text/plain": [
       "[1, 2, 3, 4, 5]"
      ]
     },
     "execution_count": 30,
     "metadata": {},
     "output_type": "execute_result"
    }
   ],
   "source": [
    "x=[1,2,3,4,5]\n",
    "x"
   ]
  },
  {
   "cell_type": "code",
   "execution_count": 31,
   "id": "83e59e77",
   "metadata": {},
   "outputs": [
    {
     "name": "stdout",
     "output_type": "stream",
     "text": [
      "[2, 5, 10, 17, 26]\n"
     ]
    }
   ],
   "source": [
    "my_list=[]\n",
    "for i in x:\n",
    "    my_list.append(i**2+1)\n",
    "print(my_list)"
   ]
  },
  {
   "cell_type": "code",
   "execution_count": 32,
   "id": "3adf8e17",
   "metadata": {},
   "outputs": [
    {
     "data": {
      "text/plain": [
       "[2, 5, 10, 17, 26]"
      ]
     },
     "execution_count": 32,
     "metadata": {},
     "output_type": "execute_result"
    }
   ],
   "source": [
    "[x**2+1 for x in range(1,6)]"
   ]
  },
  {
   "cell_type": "code",
   "execution_count": 33,
   "id": "5a81b1e3",
   "metadata": {},
   "outputs": [
    {
     "name": "stdout",
     "output_type": "stream",
     "text": [
      "My code is 1210, and My Name is samuel\n"
     ]
    }
   ],
   "source": [
    "Code= 1210\n",
    "Name= 'samuel'\n",
    "print('My code is {}, and My Name is {}'.format(Code,Name))"
   ]
  },
  {
   "cell_type": "code",
   "execution_count": null,
   "id": "2e324f19",
   "metadata": {},
   "outputs": [],
   "source": [
    "sam='hello My name is samuel, am learning ML'\n",
    "sam"
   ]
  },
  {
   "cell_type": "code",
   "execution_count": null,
   "id": "162cd231",
   "metadata": {},
   "outputs": [],
   "source": [
    "sam.upper()"
   ]
  },
  {
   "cell_type": "code",
   "execution_count": null,
   "id": "6a5ff7bf",
   "metadata": {},
   "outputs": [],
   "source": [
    "x=[(2,3),(4,5),(6,7)]\n",
    "x"
   ]
  },
  {
   "cell_type": "code",
   "execution_count": null,
   "id": "8238b704",
   "metadata": {},
   "outputs": [],
   "source": [
    "for a,b in x:\n",
    "    print('first number is {} second numer is {}'.format(a,b))"
   ]
  },
  {
   "cell_type": "code",
   "execution_count": null,
   "id": "fc282a4c",
   "metadata": {},
   "outputs": [],
   "source": [
    "[sam**2+2 for sam in range(1,6)]"
   ]
  },
  {
   "cell_type": "code",
   "execution_count": null,
   "id": "8b89f28f",
   "metadata": {},
   "outputs": [],
   "source": [
    "def sam(x):\n",
    "    \"\"\"\" this is my function to add 10 your number\"\"\"\n",
    "    print(x+20)"
   ]
  },
  {
   "cell_type": "code",
   "execution_count": null,
   "id": "4121c66a",
   "metadata": {},
   "outputs": [],
   "source": [
    "sam"
   ]
  },
  {
   "cell_type": "code",
   "execution_count": null,
   "id": "1e268705",
   "metadata": {},
   "outputs": [],
   "source": [
    "\n",
    "lambda x: x**3"
   ]
  },
  {
   "cell_type": "code",
   "execution_count": null,
   "id": "124c27a5",
   "metadata": {},
   "outputs": [],
   "source": [
    "def power_3(x):\n",
    "    return x**3"
   ]
  },
  {
   "cell_type": "code",
   "execution_count": null,
   "id": "72beea62",
   "metadata": {},
   "outputs": [],
   "source": [
    "power_3 (2)"
   ]
  },
  {
   "cell_type": "code",
   "execution_count": null,
   "id": "ab5cb735",
   "metadata": {},
   "outputs": [],
   "source": [
    "seq=[1,2,3,4,5,6]\n",
    "seq"
   ]
  },
  {
   "cell_type": "code",
   "execution_count": null,
   "id": "aa4b55c1",
   "metadata": {},
   "outputs": [],
   "source": [
    "list(map(power_3,seq))"
   ]
  },
  {
   "cell_type": "code",
   "execution_count": null,
   "id": "e2b19454",
   "metadata": {},
   "outputs": [],
   "source": [
    "list(map(lambda x: x**3,range(1,7)))"
   ]
  },
  {
   "cell_type": "code",
   "execution_count": null,
   "id": "78fd957f",
   "metadata": {},
   "outputs": [],
   "source": [
    "list(map(lambda x:x**3, range(10)))"
   ]
  },
  {
   "cell_type": "code",
   "execution_count": null,
   "id": "1180a263",
   "metadata": {},
   "outputs": [],
   "source": [
    "list(filter(lambda x:x>3,range(10)))"
   ]
  },
  {
   "cell_type": "code",
   "execution_count": null,
   "id": "ada8e43c",
   "metadata": {},
   "outputs": [],
   "source": [
    "Stocks=['AAPL','AMZN','TSLA','MSFT']\n",
    "Stocks"
   ]
  },
  {
   "cell_type": "code",
   "execution_count": null,
   "id": "29b2a9a6",
   "metadata": {},
   "outputs": [],
   "source": [
    "list(map(lambda x: x[0]=='T',Stocks))"
   ]
  },
  {
   "cell_type": "code",
   "execution_count": null,
   "id": "15bc3d5f",
   "metadata": {},
   "outputs": [],
   "source": [
    "list(filter(lambda x:x[0]=='A'and x[-1]=='L',Stocks))"
   ]
  },
  {
   "cell_type": "code",
   "execution_count": null,
   "id": "cff33265",
   "metadata": {},
   "outputs": [],
   "source": [
    "list(map(lambda x,y: x+y,[2,4,],[5,6]))"
   ]
  },
  {
   "cell_type": "code",
   "execution_count": null,
   "id": "7e11cc33",
   "metadata": {},
   "outputs": [],
   "source": []
  }
 ],
 "metadata": {
  "kernelspec": {
   "display_name": "Python 3 (ipykernel)",
   "language": "python",
   "name": "python3"
  },
  "language_info": {
   "codemirror_mode": {
    "name": "ipython",
    "version": 3
   },
   "file_extension": ".py",
   "mimetype": "text/x-python",
   "name": "python",
   "nbconvert_exporter": "python",
   "pygments_lexer": "ipython3",
   "version": "3.8.8"
  }
 },
 "nbformat": 4,
 "nbformat_minor": 5
}
